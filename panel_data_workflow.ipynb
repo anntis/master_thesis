{
 "cells": [
  {
   "cell_type": "code",
   "execution_count": 191,
   "id": "c7734528",
   "metadata": {},
   "outputs": [],
   "source": [
    "# === Core scientific libraries ===\n",
    "import numpy as np\n",
    "import pandas as pd\n",
    "\n",
    "# === Statsmodels (econometrics / statistical modeling) ===\n",
    "import statsmodels.api as sm\n",
    "import statsmodels.formula.api as smf\n",
    "from statsmodels.api import OLS\n",
    "\n",
    "# === Causal inference (DoubleML) ===\n",
    "import doubleml as dml\n",
    "from doubleml import DoubleMLData, DoubleMLPLR, DoubleMLIRM\n",
    "\n",
    "# === Utilities ===\n",
    "import warnings"
   ]
  },
  {
   "cell_type": "code",
   "execution_count": 192,
   "id": "c5348045",
   "metadata": {},
   "outputs": [],
   "source": [
    "from pathlib import Path\n",
    "this_dir = Path (\".\")\n",
    "data_dir = this_dir / \"data\"\n",
    "obtained_data_dir = data_dir / \"obtained_data\""
   ]
  },
  {
   "cell_type": "code",
   "execution_count": 193,
   "id": "6ccf782a",
   "metadata": {},
   "outputs": [],
   "source": [
    "file_path = obtained_data_dir / \"original_data_policy_scaled.xlsx\"\n",
    "scaled_df = pd.read_excel(file_path)"
   ]
  },
  {
   "cell_type": "code",
   "execution_count": null,
   "id": "f82169fb",
   "metadata": {},
   "outputs": [
    {
     "name": "stdout",
     "output_type": "stream",
     "text": [
      "         Country  Year  waste_per_cap  Policy  Group   env_tax  unemp_rate  \\\n",
      "0       Bulgaria  2015            431       0      0  0.439746    0.352174   \n",
      "1        Czechia  2015            316       0      0  0.249471    0.134783   \n",
      "2        Germany  2015            632       0      1  0.221987    0.104348   \n",
      "3        Estonia  2015            359       0      0  0.393235    0.191304   \n",
      "4        Ireland  2015            571       0      1  0.215645    0.343478   \n",
      "..           ...   ...            ...     ...    ...       ...         ...   \n",
      "185     Slovenia  2022            487       1      1  0.422833    0.086957   \n",
      "186     Slovakia  2022            478       0      0  0.338266    0.178261   \n",
      "187       Sweden  2022            395       1      1  0.219873    0.239130   \n",
      "188  Switzerland  2022            677       0      0  0.084567    0.091304   \n",
      "189       Serbia  2022            473       1      1  0.534884    0.330435   \n",
      "\n",
      "     rexp_per_cap   urb_ind  country_Croatia  ...  country_Netherlands  \\\n",
      "0        0.059459  0.492454            False  ...                False   \n",
      "1        0.318919  0.479987            False  ...                False   \n",
      "2        0.751351  0.570463            False  ...                False   \n",
      "3        0.237838  0.356995            False  ...                False   \n",
      "4        0.481081  0.214149            False  ...                False   \n",
      "..            ...       ...              ...  ...                  ...   \n",
      "185      0.610811  0.049211            False  ...                False   \n",
      "186      0.486486  0.004447            False  ...                False   \n",
      "187      0.924324  0.844881            False  ...                False   \n",
      "188      0.994595  0.494933            False  ...                False   \n",
      "189      0.183784  0.076478            False  ...                False   \n",
      "\n",
      "     country_Poland  country_Portugal  country_Romania  country_Serbia  \\\n",
      "0             False             False            False           False   \n",
      "1             False             False            False           False   \n",
      "2             False             False            False           False   \n",
      "3             False             False            False           False   \n",
      "4             False             False            False           False   \n",
      "..              ...               ...              ...             ...   \n",
      "185           False             False            False           False   \n",
      "186           False             False            False           False   \n",
      "187           False             False            False           False   \n",
      "188           False             False            False           False   \n",
      "189           False             False            False            True   \n",
      "\n",
      "     country_Slovakia  country_Slovenia  country_Spain  country_Sweden  \\\n",
      "0               False             False          False           False   \n",
      "1               False             False          False           False   \n",
      "2               False             False          False           False   \n",
      "3               False             False          False           False   \n",
      "4               False             False          False           False   \n",
      "..                ...               ...            ...             ...   \n",
      "185             False              True          False           False   \n",
      "186              True             False          False           False   \n",
      "187             False             False          False            True   \n",
      "188             False             False          False           False   \n",
      "189             False             False          False           False   \n",
      "\n",
      "     country_Switzerland  \n",
      "0                  False  \n",
      "1                  False  \n",
      "2                  False  \n",
      "3                  False  \n",
      "4                  False  \n",
      "..                   ...  \n",
      "185                False  \n",
      "186                False  \n",
      "187                False  \n",
      "188                 True  \n",
      "189                False  \n",
      "\n",
      "[190 rows x 32 columns]\n",
      "New demension: (190, 32)\n"
     ]
    }
   ],
   "source": [
    "\n",
    "# get dummies\n",
    "country_dummies = pd.get_dummies(scaled_df['Country'], prefix='country', drop_first=True)\n",
    "\n",
    "scaled_df_with_fe = pd.concat([scaled_df, country_dummies], axis=1)\n",
    "\n",
    "\n",
    "print(scaled_df_with_fe)\n",
    "print(f\"New demension: {scaled_df_with_fe.shape}\")"
   ]
  },
  {
   "cell_type": "code",
   "execution_count": 195,
   "id": "bb7103bc",
   "metadata": {},
   "outputs": [],
   "source": [
    "ml_df = scaled_df_with_fe\n",
    "bool_cols = ml_df.select_dtypes(include='bool').columns\n",
    "\n",
    "# (True -> 1, False -> 0)\n",
    "ml_df[bool_cols] = ml_df[bool_cols].astype(int)"
   ]
  },
  {
   "cell_type": "code",
   "execution_count": 196,
   "id": "1038a195",
   "metadata": {},
   "outputs": [],
   "source": [
    "from help_func import find_optimal_learners\n",
    "from help_func import find_optimal_lasso\n",
    "from help_func import find_optimal_xgboost"
   ]
  },
  {
   "cell_type": "code",
   "execution_count": 197,
   "id": "c90ec31d",
   "metadata": {},
   "outputs": [],
   "source": [
    "warnings.filterwarnings('ignore', category=UserWarning, message='Propensity predictions from learner')"
   ]
  },
  {
   "cell_type": "markdown",
   "id": "933116d4",
   "metadata": {},
   "source": [
    "### Fixed effects"
   ]
  },
  {
   "cell_type": "code",
   "execution_count": null,
   "id": "6d7c127e",
   "metadata": {},
   "outputs": [
    {
     "name": "stdout",
     "output_type": "stream",
     "text": [
      "Fitting 5 folds for each of 45 candidates, totalling 225 fits\n",
      "\n",
      "--- Optimal Parameters for Regressor ---\n",
      "Best parameters: {'max_depth': 10, 'min_samples_leaf': 1, 'n_estimators': 200}\n",
      "Fitting 5 folds for each of 45 candidates, totalling 225 fits\n",
      "\n",
      "--- Optimal Parameters for Classifier ---\n",
      "Best parameters: {'max_depth': 10, 'min_samples_leaf': 1, 'n_estimators': 30}\n",
      "================== DoubleMLIRM Object ==================\n",
      "\n",
      "------------------ Data summary      ------------------\n",
      "Outcome variable: waste_per_cap\n",
      "Treatment variable(s): ['Group']\n",
      "Covariates: ['env_tax', 'rexp_per_cap', 'urb_ind', 'unemp_rate', 'country_Croatia', 'country_Cyprus', 'country_Czechia', 'country_Estonia', 'country_France', 'country_Germany', 'country_Greece', 'country_Hungary', 'country_Ireland', 'country_Italy', 'country_Latvia', 'country_Lithuania', 'country_Malta', 'country_Netherlands', 'country_Poland', 'country_Portugal', 'country_Romania', 'country_Serbia', 'country_Slovakia', 'country_Slovenia', 'country_Spain', 'country_Sweden', 'country_Switzerland']\n",
      "Instrument variable(s): None\n",
      "No. Observations: 190\n",
      "\n",
      "------------------ Score & algorithm ------------------\n",
      "Score function: ATE\n",
      "\n",
      "------------------ Machine learner   ------------------\n",
      "Learner ml_g: RandomForestRegressor(max_depth=10, n_estimators=200, random_state=42)\n",
      "Learner ml_m: RandomForestClassifier(max_depth=10, n_estimators=30, random_state=42)\n",
      "Out-of-sample Performance:\n",
      "Regression:\n",
      "Learner ml_g0 RMSE: [[39.88769433]\n",
      " [41.38270475]\n",
      " [37.56331915]\n",
      " [38.29933676]\n",
      " [37.46857041]]\n",
      "Learner ml_g1 RMSE: [[28.85222341]\n",
      " [30.83219545]\n",
      " [28.864627  ]\n",
      " [27.97693188]\n",
      " [31.31565567]]\n",
      "Classification:\n",
      "Learner ml_m Log Loss: [[0.11872842]\n",
      " [0.11353162]\n",
      " [0.12498201]\n",
      " [0.10602249]\n",
      " [0.11479059]]\n",
      "\n",
      "------------------ Resampling        ------------------\n",
      "No. folds: 5\n",
      "No. repeated sample splits: 5\n",
      "\n",
      "------------------ Fit summary       ------------------\n",
      "           coef   std err          t         P>|t|      2.5 %     97.5 %\n",
      "Group  71.93325  7.139266  10.075721  7.073997e-24  57.940546  85.925953\n"
     ]
    }
   ],
   "source": [
    "ml_df = ml_df.drop('Country', axis=1)\n",
    "\n",
    "country_dummy_cols = [col for col in ml_df.columns if col.startswith('country_')]\n",
    "\n",
    "x_cols = ['env_tax', 'rexp_per_cap', 'urb_ind', 'unemp_rate'] + country_dummy_cols\n",
    "obj_dml_data = dml.DoubleMLData(ml_df, 'waste_per_cap', 'Group', x_cols=x_cols)\n",
    "\n",
    "X_g = obj_dml_data.x\n",
    "y_g = obj_dml_data.y\n",
    "X_m = obj_dml_data.x\n",
    "y_m = obj_dml_data.d\n",
    "\n",
    "optimal_ml_g = find_optimal_learners(X_g, y_g, is_classifier=False)\n",
    "optimal_ml_m = find_optimal_learners(X_m, y_m, is_classifier=True)\n",
    "\n",
    "dml_obj = dml.DoubleMLIRM(obj_dml_data, optimal_ml_g, optimal_ml_m, n_folds=5, n_rep=5)\n",
    "print(dml_obj.fit())"
   ]
  },
  {
   "cell_type": "markdown",
   "id": "1068dd3c",
   "metadata": {},
   "source": [
    "### CRE Method (Mundlak)"
   ]
  },
  {
   "cell_type": "code",
   "execution_count": 199,
   "id": "995023a4",
   "metadata": {},
   "outputs": [],
   "source": [
    "cre_df = scaled_df"
   ]
  },
  {
   "cell_type": "code",
   "execution_count": 200,
   "id": "eedd03c6",
   "metadata": {},
   "outputs": [],
   "source": [
    "selected_countries = [\"Czechia\", \"Ireland\", \"Cyprus\", \"Hungary\", \"Serbia\", \n",
    "                       \"Sweden\", \"France\", \"Spain\", \"Netherlands\", \"Germany\", \"Italy\",\n",
    "                       \"Poland\", \"Lithuania\", \"Portugal\", \"Latvia\", \"Malta\", \n",
    "                       \"Slovenia\", \"Estonia\", \"Croatia\", \"Greece\", \"Bulgaria\", \"Slovakia\", \"Switzerland\", \"Romania\"]"
   ]
  },
  {
   "cell_type": "code",
   "execution_count": 201,
   "id": "91830c9e",
   "metadata": {},
   "outputs": [
    {
     "name": "stdout",
     "output_type": "stream",
     "text": [
      "         Country  Year  waste_per_cap  Policy  Group   env_tax  unemp_rate  \\\n",
      "0       Bulgaria  2015            431       0      0  0.439746    0.352174   \n",
      "1        Czechia  2015            316       0      0  0.249471    0.134783   \n",
      "2        Germany  2015            632       0      1  0.221987    0.104348   \n",
      "3        Estonia  2015            359       0      0  0.393235    0.191304   \n",
      "4        Ireland  2015            571       0      1  0.215645    0.343478   \n",
      "..           ...   ...            ...     ...    ...       ...         ...   \n",
      "185     Slovenia  2022            487       1      1  0.422833    0.086957   \n",
      "186     Slovakia  2022            478       0      0  0.338266    0.178261   \n",
      "187       Sweden  2022            395       1      1  0.219873    0.239130   \n",
      "188  Switzerland  2022            677       0      0  0.084567    0.091304   \n",
      "189       Serbia  2022            473       1      1  0.534884    0.330435   \n",
      "\n",
      "     rexp_per_cap   urb_ind  waste_per_cap_mean  waste_per_cap_centered  \\\n",
      "0        0.059459  0.492454          447.875000              -16.875000   \n",
      "1        0.318919  0.479987          464.428571             -148.428571   \n",
      "2        0.751351  0.570463          625.625000                6.375000   \n",
      "3        0.237838  0.356995          381.250000              -22.250000   \n",
      "4        0.481081  0.214149          602.875000              -31.875000   \n",
      "..            ...       ...                 ...                     ...   \n",
      "185      0.610811  0.049211          481.500000                5.500000   \n",
      "186      0.486486  0.004447          417.875000               60.125000   \n",
      "187      0.924324  0.844881          434.625000              -39.625000   \n",
      "188      0.994595  0.494933          707.750000              -30.750000   \n",
      "189      0.183784  0.076478          354.000000              119.000000   \n",
      "\n",
      "     env_tax_mean  env_tax_centered  unemp_rate_mean  unemp_rate_centered  \\\n",
      "0        0.474366         -0.034619         0.200000             0.152174   \n",
      "1        0.236484          0.012987         0.047205             0.087578   \n",
      "2        0.192389          0.029598         0.069022             0.035326   \n",
      "3        0.383985          0.009249         0.171739             0.019565   \n",
      "4        0.125793          0.089852         0.197826             0.145652   \n",
      "..            ...               ...              ...                  ...   \n",
      "185      0.550740         -0.127907         0.167935            -0.080978   \n",
      "186      0.339323         -0.001057         0.244565            -0.066304   \n",
      "187      0.250000         -0.030127         0.237500             0.001630   \n",
      "188      0.104651         -0.020085         0.117935            -0.026630   \n",
      "189      0.659091         -0.124207         0.488043            -0.157609   \n",
      "\n",
      "     rexp_per_cap_mean  rexp_per_cap_centered  urb_ind_mean  urb_ind_centered  \n",
      "0             0.167568              -0.108108      0.521304         -0.028849  \n",
      "1             0.413900              -0.094981      0.488219         -0.008231  \n",
      "2             0.854054              -0.102703      0.574771         -0.004308  \n",
      "3             0.344595              -0.106757      0.370823         -0.013828  \n",
      "4             0.547297              -0.066216      0.233107         -0.018959  \n",
      "..                 ...                    ...           ...               ...  \n",
      "185           0.416892               0.193919      0.024074          0.025137  \n",
      "186           0.311486               0.175000      0.001768          0.002679  \n",
      "187           0.766892               0.157432      0.821979          0.022902  \n",
      "188           0.887162               0.107432      0.489256          0.005678  \n",
      "189           0.062162               0.121622      0.060639          0.015839  \n",
      "\n",
      "[190 rows x 19 columns]\n"
     ]
    }
   ],
   "source": [
    "columns_to_normalize = ['waste_per_cap', 'env_tax', 'unemp_rate', 'rexp_per_cap', 'urb_ind']\n",
    "\n",
    "# Subtracting the mean value for each country across all years\n",
    "for col in columns_to_normalize:\n",
    "    # Group by 'Country' and calculate the mean for each group\n",
    "    country_means = cre_df.groupby('Country')[col].mean()\n",
    "\n",
    "    cre_df[f'{col}_mean'] = cre_df['Country'].map(country_means)\n",
    "\n",
    "    # Subtract the mean value of each country from the corresponding values\n",
    "    cre_df[f'{col}_centered'] = cre_df.apply(\n",
    "        lambda row: row[col] - country_means[row['Country']], axis=1\n",
    "    )\n",
    "\n",
    "print(cre_df)"
   ]
  },
  {
   "cell_type": "code",
   "execution_count": 202,
   "id": "81abac3b",
   "metadata": {},
   "outputs": [
    {
     "name": "stdout",
     "output_type": "stream",
     "text": [
      "Fitting 5 folds for each of 45 candidates, totalling 225 fits\n",
      "\n",
      "--- Optimal Parameters for Regressor ---\n",
      "Best parameters: {'max_depth': 10, 'min_samples_leaf': 1, 'n_estimators': 200}\n",
      "Fitting 5 folds for each of 45 candidates, totalling 225 fits\n",
      "\n",
      "--- Optimal Parameters for Classifier ---\n",
      "Best parameters: {'max_depth': 3, 'min_samples_leaf': 1, 'n_estimators': 30}\n",
      "================== DoubleMLIRM Object ==================\n",
      "\n",
      "------------------ Data summary      ------------------\n",
      "Outcome variable: waste_per_cap\n",
      "Treatment variable(s): ['Group']\n",
      "Covariates: ['env_tax_mean', 'rexp_per_cap_mean', 'urb_ind_mean', 'unemp_rate_mean', 'env_tax', 'rexp_per_cap', 'urb_ind', 'unemp_rate']\n",
      "Instrument variable(s): None\n",
      "No. Observations: 190\n",
      "\n",
      "------------------ Score & algorithm ------------------\n",
      "Score function: ATE\n",
      "\n",
      "------------------ Machine learner   ------------------\n",
      "Learner ml_g: RandomForestRegressor(max_depth=10, n_estimators=200, random_state=42)\n",
      "Learner ml_m: RandomForestClassifier(max_depth=3, n_estimators=30, random_state=42)\n",
      "Out-of-sample Performance:\n",
      "Regression:\n",
      "Learner ml_g0 RMSE: [[35.83315039]\n",
      " [31.32148707]\n",
      " [29.90650114]\n",
      " [32.10416935]\n",
      " [39.79317673]]\n",
      "Learner ml_g1 RMSE: [[21.16289587]\n",
      " [20.85183498]\n",
      " [22.75673642]\n",
      " [22.51302962]\n",
      " [23.58441991]]\n",
      "Classification:\n",
      "Learner ml_m Log Loss: [[0.15780294]\n",
      " [0.14815771]\n",
      " [0.1528749 ]\n",
      " [0.15779538]\n",
      " [0.15953228]]\n",
      "\n",
      "------------------ Resampling        ------------------\n",
      "No. folds: 5\n",
      "No. repeated sample splits: 5\n",
      "\n",
      "------------------ Fit summary       ------------------\n",
      "            coef   std err         t         P>|t|      2.5 %     97.5 %\n",
      "Group  70.541038  7.678014  9.187406  4.024268e-20  55.911116  85.170961\n"
     ]
    }
   ],
   "source": [
    "obj_dml_data = dml.DoubleMLData(cre_df, 'waste_per_cap', 'Group', x_cols=[ 'env_tax_mean', 'rexp_per_cap_mean', 'urb_ind_mean', \"unemp_rate_mean\", 'env_tax', 'rexp_per_cap', 'urb_ind', \"unemp_rate\"])\n",
    "\n",
    "# Find optimal learners\n",
    "X_g = obj_dml_data.x\n",
    "y_g = obj_dml_data.y\n",
    "X_m = obj_dml_data.x\n",
    "y_m = obj_dml_data.d\n",
    "\n",
    "optimal_ml_g = find_optimal_learners(X_g, y_g, is_classifier=False)\n",
    "optimal_ml_m = find_optimal_learners(X_m, y_m, is_classifier=True)\n",
    "\n",
    "dml_obj = dml.DoubleMLIRM(obj_dml_data, optimal_ml_g, optimal_ml_m, n_folds=5, n_rep=5)\n",
    "print(dml_obj.fit())"
   ]
  },
  {
   "cell_type": "code",
   "execution_count": 203,
   "id": "3adc9612",
   "metadata": {},
   "outputs": [
    {
     "name": "stdout",
     "output_type": "stream",
     "text": [
      "Fitting 5 folds for each of 100 candidates, totalling 500 fits\n",
      "\n",
      "--- Optimal Parameters for Lasso Regressor ---\n",
      "Best parameters: {'alpha': 1.0}\n",
      "Fitting 5 folds for each of 100 candidates, totalling 500 fits\n",
      "\n",
      "--- Optimal Parameters for Lasso Classifier ---\n",
      "Best parameters: {'C': 1.0, 'penalty': 'l1'}\n",
      "================== DoubleMLIRM Object ==================\n",
      "\n",
      "------------------ Data summary      ------------------\n",
      "Outcome variable: waste_per_cap\n",
      "Treatment variable(s): ['Group']\n",
      "Covariates: ['env_tax_mean', 'rexp_per_cap_mean', 'urb_ind_mean', 'unemp_rate_mean', 'env_tax', 'rexp_per_cap', 'urb_ind', 'unemp_rate']\n",
      "Instrument variable(s): None\n",
      "No. Observations: 190\n",
      "\n",
      "------------------ Score & algorithm ------------------\n",
      "Score function: ATE\n",
      "\n",
      "------------------ Machine learner   ------------------\n",
      "Learner ml_g: Lasso(random_state=42)\n",
      "Learner ml_m: LogisticRegression(penalty='l1', random_state=42, solver='liblinear')\n",
      "Out-of-sample Performance:\n",
      "Regression:\n",
      "Learner ml_g0 RMSE: [[62.08388196]\n",
      " [62.48368062]\n",
      " [61.51053123]\n",
      " [61.56099492]\n",
      " [59.86759498]]\n",
      "Learner ml_g1 RMSE: [[77.66051528]\n",
      " [80.29042569]\n",
      " [77.20080541]\n",
      " [76.69680059]\n",
      " [77.62869397]]\n",
      "Classification:\n",
      "Learner ml_m Log Loss: [[0.56172246]\n",
      " [0.55539685]\n",
      " [0.56433614]\n",
      " [0.5561489 ]\n",
      " [0.55773856]]\n",
      "\n",
      "------------------ Resampling        ------------------\n",
      "No. folds: 5\n",
      "No. repeated sample splits: 5\n",
      "\n",
      "------------------ Fit summary       ------------------\n",
      "            coef   std err         t         P>|t|      2.5 %     97.5 %\n",
      "Group  53.776473  10.95687  4.908014  9.200319e-07  31.866228  75.686718\n"
     ]
    }
   ],
   "source": [
    "optimal_lasso_g = find_optimal_lasso(X_g, y_g, is_classifier=False)\n",
    "optimal_lasso_m = find_optimal_lasso(X_m, y_m, is_classifier=True)\n",
    "\n",
    "dml_irm_lasso = dml.DoubleMLIRM(obj_dml_data, optimal_lasso_g, optimal_lasso_m, n_folds=5, n_rep=5)\n",
    "print(dml_irm_lasso.fit())"
   ]
  },
  {
   "cell_type": "code",
   "execution_count": 204,
   "id": "37aa9211",
   "metadata": {},
   "outputs": [
    {
     "name": "stdout",
     "output_type": "stream",
     "text": [
      "Fitting 5 folds for each of 200 candidates, totalling 1000 fits\n"
     ]
    },
    {
     "name": "stderr",
     "output_type": "stream",
     "text": [
      "c:\\Users\\Anna\\anaconda3\\envs\\res\\Lib\\site-packages\\numpy\\ma\\core.py:2820: RuntimeWarning: invalid value encountered in cast\n",
      "  _data = np.array(data, dtype=dtype, copy=copy,\n"
     ]
    },
    {
     "name": "stdout",
     "output_type": "stream",
     "text": [
      "\n",
      "--- Optimal Parameters for XGBoost Regressor ---\n",
      "Best parameters: {'learning_rate': 0.2, 'max_depth': 3, 'n_estimators': 100}\n",
      "Fitting 5 folds for each of 200 candidates, totalling 1000 fits\n",
      "\n",
      "--- Optimal Parameters for XGBoost Classifier ---\n",
      "Best parameters: {'learning_rate': 0.01, 'max_depth': 3, 'n_estimators': 200}\n",
      "            coef   std err         t         P>|t|      2.5 %     97.5 %\n",
      "Group  72.721534  8.247176  8.817749  1.167832e-18  56.681594  88.761474\n"
     ]
    }
   ],
   "source": [
    "optimal_xgboost_g = find_optimal_xgboost(X_g, y_g, is_classifier=False)\n",
    "optimal_xgboost_m = find_optimal_xgboost(X_m, y_m, is_classifier=True)\n",
    "\n",
    "dml_irm_boost = dml.DoubleMLIRM(obj_dml_data,\n",
    "                                 ml_g = optimal_xgboost_g,\n",
    "                                 ml_m = optimal_xgboost_m,\n",
    "                                 n_folds = 5,\n",
    "                                 n_rep = 5)\n",
    "dml_irm_boost.fit(store_predictions=True)\n",
    "boost_summary = dml_irm_boost.summary\n",
    "print(boost_summary)"
   ]
  }
 ],
 "metadata": {
  "kernelspec": {
   "display_name": "res",
   "language": "python",
   "name": "python3"
  },
  "language_info": {
   "codemirror_mode": {
    "name": "ipython",
    "version": 3
   },
   "file_extension": ".py",
   "mimetype": "text/x-python",
   "name": "python",
   "nbconvert_exporter": "python",
   "pygments_lexer": "ipython3",
   "version": "3.11.0"
  }
 },
 "nbformat": 4,
 "nbformat_minor": 5
}
