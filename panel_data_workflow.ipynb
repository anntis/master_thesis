{
 "cells": [
  {
   "cell_type": "code",
   "execution_count": 1,
   "id": "c7734528",
   "metadata": {},
   "outputs": [],
   "source": [
    "# === Core scientific libraries ===\n",
    "import numpy as np\n",
    "import pandas as pd\n",
    "\n",
    "# === Statsmodels (econometrics / statistical modeling) ===\n",
    "import statsmodels.api as sm\n",
    "import statsmodels.formula.api as smf\n",
    "from statsmodels.api import OLS\n",
    "\n",
    "# === Causal inference (DoubleML) ===\n",
    "import doubleml as dml\n",
    "from doubleml import DoubleMLData, DoubleMLPLR, DoubleMLIRM\n",
    "\n",
    "# === Visualization ===\n",
    "import matplotlib.pyplot as plt\n",
    "import seaborn as sns\n",
    "\n",
    "# === Scipy (scientific functions) ===\n",
    "from scipy import stats\n",
    "from scipy.stats import norm, expon\n",
    "from scipy.special import expit\n",
    "\n",
    "# === Utilities ===\n",
    "import warnings"
   ]
  },
  {
   "cell_type": "code",
   "execution_count": 2,
   "id": "c5348045",
   "metadata": {},
   "outputs": [],
   "source": [
    "from pathlib import Path\n",
    "this_dir = Path (\".\")\n",
    "data_dir = this_dir / \"data\"\n",
    "obtained_data_dir = data_dir / \"obtained_data\""
   ]
  },
  {
   "cell_type": "code",
   "execution_count": 3,
   "id": "6ccf782a",
   "metadata": {},
   "outputs": [],
   "source": [
    "file_path = obtained_data_dir / \"original_data_policy_scaled.xlsx\"\n",
    "scaled_df = pd.read_excel(file_path)"
   ]
  },
  {
   "cell_type": "code",
   "execution_count": 4,
   "id": "b7ea6e3a",
   "metadata": {},
   "outputs": [],
   "source": [
    "from help_func import find_optimal_learners\n",
    "from help_func import find_optimal_lasso\n",
    "from help_func import find_optimal_xgboost"
   ]
  },
  {
   "cell_type": "markdown",
   "id": "43e6e12e",
   "metadata": {},
   "source": [
    "### Fixed effects"
   ]
  },
  {
   "cell_type": "code",
   "execution_count": 5,
   "id": "f82169fb",
   "metadata": {},
   "outputs": [
    {
     "name": "stdout",
     "output_type": "stream",
     "text": [
      "         Country  Year  waste_per_cap  Policy  Group   env_tax  unemp_rate  \\\n",
      "0       Bulgaria  2015            431       0      0  0.439746    0.352174   \n",
      "1        Czechia  2015            316       0      0  0.249471    0.134783   \n",
      "2        Germany  2015            632       0      1  0.221987    0.104348   \n",
      "3        Estonia  2015            359       0      0  0.393235    0.191304   \n",
      "4        Ireland  2015            571       0      1  0.215645    0.343478   \n",
      "..           ...   ...            ...     ...    ...       ...         ...   \n",
      "185     Slovenia  2022            487       1      1  0.422833    0.086957   \n",
      "186     Slovakia  2022            478       0      0  0.338266    0.178261   \n",
      "187       Sweden  2022            395       1      1  0.219873    0.239130   \n",
      "188  Switzerland  2022            677       0      0  0.084567    0.091304   \n",
      "189       Serbia  2022            473       1      1  0.534884    0.330435   \n",
      "\n",
      "     rexp_per_cap   urb_ind  country_Croatia  ...  country_Netherlands  \\\n",
      "0        0.059459  0.492454            False  ...                False   \n",
      "1        0.318919  0.479987            False  ...                False   \n",
      "2        0.751351  0.570463            False  ...                False   \n",
      "3        0.237838  0.356995            False  ...                False   \n",
      "4        0.481081  0.214149            False  ...                False   \n",
      "..            ...       ...              ...  ...                  ...   \n",
      "185      0.610811  0.049211            False  ...                False   \n",
      "186      0.486486  0.004447            False  ...                False   \n",
      "187      0.924324  0.844881            False  ...                False   \n",
      "188      0.994595  0.494933            False  ...                False   \n",
      "189      0.183784  0.076478            False  ...                False   \n",
      "\n",
      "     country_Poland  country_Portugal  country_Romania  country_Serbia  \\\n",
      "0             False             False            False           False   \n",
      "1             False             False            False           False   \n",
      "2             False             False            False           False   \n",
      "3             False             False            False           False   \n",
      "4             False             False            False           False   \n",
      "..              ...               ...              ...             ...   \n",
      "185           False             False            False           False   \n",
      "186           False             False            False           False   \n",
      "187           False             False            False           False   \n",
      "188           False             False            False           False   \n",
      "189           False             False            False            True   \n",
      "\n",
      "     country_Slovakia  country_Slovenia  country_Spain  country_Sweden  \\\n",
      "0               False             False          False           False   \n",
      "1               False             False          False           False   \n",
      "2               False             False          False           False   \n",
      "3               False             False          False           False   \n",
      "4               False             False          False           False   \n",
      "..                ...               ...            ...             ...   \n",
      "185             False              True          False           False   \n",
      "186              True             False          False           False   \n",
      "187             False             False          False            True   \n",
      "188             False             False          False           False   \n",
      "189             False             False          False           False   \n",
      "\n",
      "     country_Switzerland  \n",
      "0                  False  \n",
      "1                  False  \n",
      "2                  False  \n",
      "3                  False  \n",
      "4                  False  \n",
      "..                   ...  \n",
      "185                False  \n",
      "186                False  \n",
      "187                False  \n",
      "188                 True  \n",
      "189                False  \n",
      "\n",
      "[190 rows x 32 columns]\n",
      "New demension: (190, 32)\n"
     ]
    }
   ],
   "source": [
    "\n",
    "# get dummies\n",
    "country_dummies = pd.get_dummies(scaled_df['Country'], prefix='country', drop_first=True)\n",
    "\n",
    "scaled_df_with_fe = pd.concat([scaled_df, country_dummies], axis=1)\n",
    "\n",
    "\n",
    "print(scaled_df_with_fe)\n",
    "print(f\"New demension: {scaled_df_with_fe.shape}\")"
   ]
  },
  {
   "cell_type": "code",
   "execution_count": 6,
   "id": "bb7103bc",
   "metadata": {},
   "outputs": [],
   "source": [
    "ml_df = scaled_df_with_fe\n",
    "bool_cols = ml_df.select_dtypes(include='bool').columns\n",
    "\n",
    "# (True -> 1, False -> 0)\n",
    "ml_df[bool_cols] = ml_df[bool_cols].astype(int)"
   ]
  },
  {
   "cell_type": "code",
   "execution_count": 7,
   "id": "c90ec31d",
   "metadata": {},
   "outputs": [],
   "source": [
    "warnings.filterwarnings('ignore', category=UserWarning, message='Propensity predictions from learner')"
   ]
  },
  {
   "cell_type": "code",
   "execution_count": 8,
   "id": "6d7c127e",
   "metadata": {},
   "outputs": [
    {
     "name": "stdout",
     "output_type": "stream",
     "text": [
      "Fitting 5 folds for each of 45 candidates, totalling 225 fits\n",
      "\n",
      "--- Optimal Parameters for Regressor ---\n",
      "Best parameters: {'max_depth': 10, 'min_samples_leaf': 1, 'n_estimators': 200}\n",
      "Fitting 5 folds for each of 45 candidates, totalling 225 fits\n",
      "\n",
      "--- Optimal Parameters for Classifier ---\n",
      "Best parameters: {'max_depth': 10, 'min_samples_leaf': 1, 'n_estimators': 30}\n",
      "================== DoubleMLIRM Object ==================\n",
      "\n",
      "------------------ Data summary      ------------------\n",
      "Outcome variable: waste_per_cap\n",
      "Treatment variable(s): ['Group']\n",
      "Covariates: ['env_tax', 'rexp_per_cap', 'urb_ind', 'unemp_rate', 'country_Croatia', 'country_Cyprus', 'country_Czechia', 'country_Estonia', 'country_France', 'country_Germany', 'country_Greece', 'country_Hungary', 'country_Ireland', 'country_Italy', 'country_Latvia', 'country_Lithuania', 'country_Malta', 'country_Netherlands', 'country_Poland', 'country_Portugal', 'country_Romania', 'country_Serbia', 'country_Slovakia', 'country_Slovenia', 'country_Spain', 'country_Sweden', 'country_Switzerland']\n",
      "Instrument variable(s): None\n",
      "No. Observations: 190\n",
      "\n",
      "------------------ Score & algorithm ------------------\n",
      "Score function: ATE\n",
      "\n",
      "------------------ Machine learner   ------------------\n",
      "Learner ml_g: RandomForestRegressor(max_depth=10, n_estimators=200, random_state=42)\n",
      "Learner ml_m: RandomForestClassifier(max_depth=10, n_estimators=30, random_state=42)\n",
      "Out-of-sample Performance:\n",
      "Regression:\n",
      "Learner ml_g0 RMSE: [[37.73943919]\n",
      " [37.40597233]\n",
      " [32.90846657]\n",
      " [35.12417484]\n",
      " [34.83982502]]\n",
      "Learner ml_g1 RMSE: [[30.08011514]\n",
      " [35.13462344]\n",
      " [35.5359971 ]\n",
      " [31.62124627]\n",
      " [31.00095879]]\n",
      "Classification:\n",
      "Learner ml_m Log Loss: [[0.11635516]\n",
      " [0.12075303]\n",
      " [0.10988237]\n",
      " [0.09725249]\n",
      " [0.11247112]]\n",
      "\n",
      "------------------ Resampling        ------------------\n",
      "No. folds: 5\n",
      "No. repeated sample splits: 5\n",
      "\n",
      "------------------ Fit summary       ------------------\n",
      "            coef   std err          t         P>|t|      2.5 %     97.5 %\n",
      "Group  72.002027  7.092415  10.151975  3.247230e-24  58.095263  85.908792\n"
     ]
    }
   ],
   "source": [
    "ml_df = ml_df.drop('Country', axis=1)\n",
    "\n",
    "country_dummy_cols = [col for col in ml_df.columns if col.startswith('country_')]\n",
    "\n",
    "x_cols = ['env_tax', 'rexp_per_cap', 'urb_ind', 'unemp_rate'] + country_dummy_cols\n",
    "obj_dml_data_f = dml.DoubleMLData(ml_df, 'waste_per_cap', 'Group', x_cols=x_cols)\n",
    "\n",
    "X_g_f = obj_dml_data_f.x\n",
    "y_g_f = obj_dml_data_f.y\n",
    "X_m_f = obj_dml_data_f.x\n",
    "y_m_f = obj_dml_data_f.d\n",
    "\n",
    "optimal_ml_g_f = find_optimal_learners(X_g_f, y_g_f, is_classifier=False)\n",
    "optimal_ml_m_f = find_optimal_learners(X_m_f, y_m_f, is_classifier=True)\n",
    "\n",
    "dml_obj_f = dml.DoubleMLIRM(obj_dml_data_f, optimal_ml_g_f, optimal_ml_m_f, n_folds=5, n_rep=5)\n",
    "print(dml_obj_f.fit())"
   ]
  },
  {
   "cell_type": "code",
   "execution_count": 9,
   "id": "4f179130",
   "metadata": {},
   "outputs": [
    {
     "name": "stdout",
     "output_type": "stream",
     "text": [
      "Fitting 5 folds for each of 100 candidates, totalling 500 fits\n",
      "\n",
      "--- Optimal Parameters for Lasso Regressor ---\n",
      "Best parameters: {'alpha': 0.1707352647470692}\n",
      "Fitting 5 folds for each of 100 candidates, totalling 500 fits\n",
      "\n",
      "--- Optimal Parameters for Lasso Classifier ---\n",
      "Best parameters: {'C': 1.0, 'penalty': 'l1'}\n",
      "================== DoubleMLIRM Object ==================\n",
      "\n",
      "------------------ Data summary      ------------------\n",
      "Outcome variable: waste_per_cap\n",
      "Treatment variable(s): ['Group']\n",
      "Covariates: ['env_tax', 'rexp_per_cap', 'urb_ind', 'unemp_rate', 'country_Croatia', 'country_Cyprus', 'country_Czechia', 'country_Estonia', 'country_France', 'country_Germany', 'country_Greece', 'country_Hungary', 'country_Ireland', 'country_Italy', 'country_Latvia', 'country_Lithuania', 'country_Malta', 'country_Netherlands', 'country_Poland', 'country_Portugal', 'country_Romania', 'country_Serbia', 'country_Slovakia', 'country_Slovenia', 'country_Spain', 'country_Sweden', 'country_Switzerland']\n",
      "Instrument variable(s): None\n",
      "No. Observations: 190\n",
      "\n",
      "------------------ Score & algorithm ------------------\n",
      "Score function: ATE\n",
      "\n",
      "------------------ Machine learner   ------------------\n",
      "Learner ml_g: Lasso(alpha=0.1707352647470692, random_state=42)\n",
      "Learner ml_m: LogisticRegression(penalty='l1', random_state=42, solver='liblinear')\n",
      "Out-of-sample Performance:\n",
      "Regression:\n",
      "Learner ml_g0 RMSE: [[37.26682878]\n",
      " [33.30094018]\n",
      " [34.82996124]\n",
      " [36.3767147 ]\n",
      " [35.14790494]]\n",
      "Learner ml_g1 RMSE: [[31.85329668]\n",
      " [28.47621822]\n",
      " [31.67733609]\n",
      " [28.4518658 ]\n",
      " [26.4561602 ]]\n",
      "Classification:\n",
      "Learner ml_m Log Loss: [[0.22713621]\n",
      " [0.20814075]\n",
      " [0.23914619]\n",
      " [0.22448815]\n",
      " [0.21550658]]\n",
      "\n",
      "------------------ Resampling        ------------------\n",
      "No. folds: 5\n",
      "No. repeated sample splits: 5\n",
      "\n",
      "------------------ Fit summary       ------------------\n",
      "            coef   std err         t         P>|t|      2.5 %     97.5 %\n",
      "Group  60.636816  7.015382  8.643409  5.456022e-18  46.856673  74.416958\n"
     ]
    }
   ],
   "source": [
    "optimal_lasso_g_f = find_optimal_lasso(X_g_f, y_g_f, is_classifier=False)\n",
    "optimal_lasso_m_f = find_optimal_lasso(X_m_f, y_m_f, is_classifier=True)\n",
    "\n",
    "dml_lasso_f = dml.DoubleMLIRM(obj_dml_data_f, optimal_lasso_g_f, optimal_lasso_m_f, n_folds=5, n_rep=5)\n",
    "print(dml_lasso_f.fit())"
   ]
  },
  {
   "cell_type": "code",
   "execution_count": 10,
   "id": "2432b835",
   "metadata": {},
   "outputs": [
    {
     "name": "stdout",
     "output_type": "stream",
     "text": [
      "Fitting 5 folds for each of 200 candidates, totalling 1000 fits\n",
      "\n",
      "--- Optimal Parameters for XGBoost Regressor ---\n",
      "Best parameters: {'learning_rate': 0.1788888888888889, 'max_depth': 1, 'n_estimators': 200}\n",
      "Fitting 5 folds for each of 200 candidates, totalling 1000 fits\n",
      "\n",
      "--- Optimal Parameters for XGBoost Classifier ---\n",
      "Best parameters: {'learning_rate': 0.1577777777777778, 'max_depth': 3, 'n_estimators': 50}\n",
      "            coef    std err         t     P>|t|      2.5 %     97.5 %\n",
      "Group  55.528761  11.692847  4.748951  0.000002  35.794792  74.888802\n"
     ]
    }
   ],
   "source": [
    "optimal_xgboost_g_f = find_optimal_xgboost(X_g_f, y_g_f, is_classifier=False)\n",
    "optimal_xgboost_m_f = find_optimal_xgboost(X_m_f, y_m_f, is_classifier=True)\n",
    "\n",
    "dml_irm_boost_f = dml.DoubleMLIRM(obj_dml_data_f,\n",
    "                                 ml_g = optimal_xgboost_g_f,\n",
    "                                 ml_m = optimal_xgboost_m_f,\n",
    "                                 n_folds = 5,\n",
    "                                 n_rep = 5)\n",
    "dml_irm_boost_f.fit(store_predictions=True)\n",
    "boost_summary = dml_irm_boost_f.summary\n",
    "print(boost_summary)"
   ]
  },
  {
   "cell_type": "markdown",
   "id": "1068dd3c",
   "metadata": {},
   "source": [
    "### CRE Method (Mundlak)"
   ]
  },
  {
   "cell_type": "code",
   "execution_count": 11,
   "id": "995023a4",
   "metadata": {},
   "outputs": [],
   "source": [
    "cre_df = scaled_df"
   ]
  },
  {
   "cell_type": "code",
   "execution_count": 12,
   "id": "eedd03c6",
   "metadata": {},
   "outputs": [],
   "source": [
    "selected_countries = [\"Czechia\", \"Ireland\", \"Cyprus\", \"Hungary\", \"Serbia\", \n",
    "                       \"Sweden\", \"France\", \"Spain\", \"Netherlands\", \"Germany\", \"Italy\",\n",
    "                       \"Poland\", \"Lithuania\", \"Portugal\", \"Latvia\", \"Malta\", \n",
    "                       \"Slovenia\", \"Estonia\", \"Croatia\", \"Greece\", \"Bulgaria\", \"Slovakia\", \"Switzerland\", \"Romania\"]"
   ]
  },
  {
   "cell_type": "code",
   "execution_count": 13,
   "id": "91830c9e",
   "metadata": {},
   "outputs": [
    {
     "name": "stdout",
     "output_type": "stream",
     "text": [
      "         Country  Year  waste_per_cap  Policy  Group   env_tax  unemp_rate  \\\n",
      "0       Bulgaria  2015            431       0      0  0.439746    0.352174   \n",
      "1        Czechia  2015            316       0      0  0.249471    0.134783   \n",
      "2        Germany  2015            632       0      1  0.221987    0.104348   \n",
      "3        Estonia  2015            359       0      0  0.393235    0.191304   \n",
      "4        Ireland  2015            571       0      1  0.215645    0.343478   \n",
      "..           ...   ...            ...     ...    ...       ...         ...   \n",
      "185     Slovenia  2022            487       1      1  0.422833    0.086957   \n",
      "186     Slovakia  2022            478       0      0  0.338266    0.178261   \n",
      "187       Sweden  2022            395       1      1  0.219873    0.239130   \n",
      "188  Switzerland  2022            677       0      0  0.084567    0.091304   \n",
      "189       Serbia  2022            473       1      1  0.534884    0.330435   \n",
      "\n",
      "     rexp_per_cap   urb_ind  waste_per_cap_mean  waste_per_cap_centered  \\\n",
      "0        0.059459  0.492454          447.875000              -16.875000   \n",
      "1        0.318919  0.479987          464.428571             -148.428571   \n",
      "2        0.751351  0.570463          625.625000                6.375000   \n",
      "3        0.237838  0.356995          381.250000              -22.250000   \n",
      "4        0.481081  0.214149          602.875000              -31.875000   \n",
      "..            ...       ...                 ...                     ...   \n",
      "185      0.610811  0.049211          481.500000                5.500000   \n",
      "186      0.486486  0.004447          417.875000               60.125000   \n",
      "187      0.924324  0.844881          434.625000              -39.625000   \n",
      "188      0.994595  0.494933          707.750000              -30.750000   \n",
      "189      0.183784  0.076478          354.000000              119.000000   \n",
      "\n",
      "     env_tax_mean  env_tax_centered  unemp_rate_mean  unemp_rate_centered  \\\n",
      "0        0.474366         -0.034619         0.200000             0.152174   \n",
      "1        0.236484          0.012987         0.047205             0.087578   \n",
      "2        0.192389          0.029598         0.069022             0.035326   \n",
      "3        0.383985          0.009249         0.171739             0.019565   \n",
      "4        0.125793          0.089852         0.197826             0.145652   \n",
      "..            ...               ...              ...                  ...   \n",
      "185      0.550740         -0.127907         0.167935            -0.080978   \n",
      "186      0.339323         -0.001057         0.244565            -0.066304   \n",
      "187      0.250000         -0.030127         0.237500             0.001630   \n",
      "188      0.104651         -0.020085         0.117935            -0.026630   \n",
      "189      0.659091         -0.124207         0.488043            -0.157609   \n",
      "\n",
      "     rexp_per_cap_mean  rexp_per_cap_centered  urb_ind_mean  urb_ind_centered  \n",
      "0             0.167568              -0.108108      0.521304         -0.028849  \n",
      "1             0.413900              -0.094981      0.488219         -0.008231  \n",
      "2             0.854054              -0.102703      0.574771         -0.004308  \n",
      "3             0.344595              -0.106757      0.370823         -0.013828  \n",
      "4             0.547297              -0.066216      0.233107         -0.018959  \n",
      "..                 ...                    ...           ...               ...  \n",
      "185           0.416892               0.193919      0.024074          0.025137  \n",
      "186           0.311486               0.175000      0.001768          0.002679  \n",
      "187           0.766892               0.157432      0.821979          0.022902  \n",
      "188           0.887162               0.107432      0.489256          0.005678  \n",
      "189           0.062162               0.121622      0.060639          0.015839  \n",
      "\n",
      "[190 rows x 19 columns]\n"
     ]
    }
   ],
   "source": [
    "columns_to_normalize = ['waste_per_cap', 'env_tax', 'unemp_rate', 'rexp_per_cap', 'urb_ind']\n",
    "\n",
    "# Subtracting the mean value for each country across all years\n",
    "for col in columns_to_normalize:\n",
    "    # Group by 'Country' and calculate the mean for each group\n",
    "    country_means = cre_df.groupby('Country')[col].mean()\n",
    "\n",
    "    cre_df[f'{col}_mean'] = cre_df['Country'].map(country_means)\n",
    "\n",
    "    # Subtract the mean value of each country from the corresponding values\n",
    "    cre_df[f'{col}_centered'] = cre_df.apply(\n",
    "        lambda row: row[col] - country_means[row['Country']], axis=1\n",
    "    )\n",
    "\n",
    "print(cre_df)"
   ]
  },
  {
   "cell_type": "code",
   "execution_count": 15,
   "id": "81abac3b",
   "metadata": {},
   "outputs": [
    {
     "name": "stdout",
     "output_type": "stream",
     "text": [
      "Fitting 5 folds for each of 45 candidates, totalling 225 fits\n",
      "\n",
      "--- Optimal Parameters for Regressor ---\n",
      "Best parameters: {'max_depth': 10, 'min_samples_leaf': 1, 'n_estimators': 200}\n",
      "Fitting 5 folds for each of 45 candidates, totalling 225 fits\n",
      "\n",
      "--- Optimal Parameters for Classifier ---\n",
      "Best parameters: {'max_depth': 3, 'min_samples_leaf': 1, 'n_estimators': 30}\n",
      "================== DoubleMLIRM Object ==================\n",
      "\n",
      "------------------ Data summary      ------------------\n",
      "Outcome variable: waste_per_cap\n",
      "Treatment variable(s): ['Group']\n",
      "Covariates: ['env_tax_mean', 'rexp_per_cap_mean', 'urb_ind_mean', 'unemp_rate_mean', 'env_tax', 'rexp_per_cap', 'urb_ind', 'unemp_rate']\n",
      "Instrument variable(s): None\n",
      "No. Observations: 190\n",
      "\n",
      "------------------ Score & algorithm ------------------\n",
      "Score function: ATE\n",
      "\n",
      "------------------ Machine learner   ------------------\n",
      "Learner ml_g: RandomForestRegressor(max_depth=10, n_estimators=200, random_state=42)\n",
      "Learner ml_m: RandomForestClassifier(max_depth=3, n_estimators=30, random_state=42)\n",
      "Out-of-sample Performance:\n",
      "Regression:\n",
      "Learner ml_g0 RMSE: [[31.6327162 ]\n",
      " [35.17921438]\n",
      " [28.93012542]\n",
      " [29.57008437]\n",
      " [31.47868439]]\n",
      "Learner ml_g1 RMSE: [[20.98558093]\n",
      " [20.4393901 ]\n",
      " [21.84643469]\n",
      " [22.76747836]\n",
      " [22.81229831]]\n",
      "Classification:\n",
      "Learner ml_m Log Loss: [[0.15020189]\n",
      " [0.15010935]\n",
      " [0.15404116]\n",
      " [0.15253245]\n",
      " [0.15386545]]\n",
      "\n",
      "------------------ Resampling        ------------------\n",
      "No. folds: 5\n",
      "No. repeated sample splits: 5\n",
      "\n",
      "------------------ Fit summary       ------------------\n",
      "            coef   std err        t         P>|t|      2.5 %     97.5 %\n",
      "Group  70.760639  7.584718  9.32937  1.065025e-20  55.813094  85.708184\n"
     ]
    }
   ],
   "source": [
    "obj_dml_data = dml.DoubleMLData(cre_df, 'waste_per_cap', 'Group', x_cols=[ 'env_tax_mean', 'rexp_per_cap_mean', 'urb_ind_mean', \"unemp_rate_mean\", 'env_tax', 'rexp_per_cap', 'urb_ind', \"unemp_rate\"])\n",
    "\n",
    "# Find optimal learners\n",
    "X_g = obj_dml_data.x\n",
    "y_g = obj_dml_data.y\n",
    "X_m = obj_dml_data.x\n",
    "y_m = obj_dml_data.d\n",
    "\n",
    "optimal_ml_g = find_optimal_learners(X_g, y_g, is_classifier=False)\n",
    "optimal_ml_m = find_optimal_learners(X_m, y_m, is_classifier=True)\n",
    "\n",
    "dml_obj = dml.DoubleMLIRM(obj_dml_data, optimal_ml_g, optimal_ml_m, n_folds=5, n_rep=5)\n",
    "print(dml_obj.fit())"
   ]
  },
  {
   "cell_type": "code",
   "execution_count": 20,
   "id": "e8f19ad0",
   "metadata": {},
   "outputs": [],
   "source": [
    "dml_ate_prf = dml_obj.summary.loc['Group', 'coef']\n",
    "dml_std_prf = dml_obj.summary.loc['Group', 'std err']"
   ]
  },
  {
   "cell_type": "code",
   "execution_count": 21,
   "id": "3adc9612",
   "metadata": {},
   "outputs": [
    {
     "name": "stdout",
     "output_type": "stream",
     "text": [
      "Fitting 5 folds for each of 100 candidates, totalling 500 fits\n",
      "\n",
      "--- Optimal Parameters for Lasso Regressor ---\n",
      "Best parameters: {'alpha': 1.0}\n",
      "Fitting 5 folds for each of 100 candidates, totalling 500 fits\n",
      "\n",
      "--- Optimal Parameters for Lasso Classifier ---\n",
      "Best parameters: {'C': 1.0, 'penalty': 'l1'}\n",
      "================== DoubleMLIRM Object ==================\n",
      "\n",
      "------------------ Data summary      ------------------\n",
      "Outcome variable: waste_per_cap\n",
      "Treatment variable(s): ['Group']\n",
      "Covariates: ['env_tax_mean', 'rexp_per_cap_mean', 'urb_ind_mean', 'unemp_rate_mean', 'env_tax', 'rexp_per_cap', 'urb_ind', 'unemp_rate']\n",
      "Instrument variable(s): None\n",
      "No. Observations: 190\n",
      "\n",
      "------------------ Score & algorithm ------------------\n",
      "Score function: ATE\n",
      "\n",
      "------------------ Machine learner   ------------------\n",
      "Learner ml_g: Lasso(random_state=42)\n",
      "Learner ml_m: LogisticRegression(penalty='l1', random_state=42, solver='liblinear')\n",
      "Out-of-sample Performance:\n",
      "Regression:\n",
      "Learner ml_g0 RMSE: [[60.05469966]\n",
      " [60.00022803]\n",
      " [60.72850092]\n",
      " [60.31515202]\n",
      " [61.09416198]]\n",
      "Learner ml_g1 RMSE: [[78.0938682 ]\n",
      " [79.10195097]\n",
      " [78.41731441]\n",
      " [79.32174876]\n",
      " [75.41370332]]\n",
      "Classification:\n",
      "Learner ml_m Log Loss: [[0.55696581]\n",
      " [0.55377891]\n",
      " [0.55267763]\n",
      " [0.56406061]\n",
      " [0.56299172]]\n",
      "\n",
      "------------------ Resampling        ------------------\n",
      "No. folds: 5\n",
      "No. repeated sample splits: 5\n",
      "\n",
      "------------------ Fit summary       ------------------\n",
      "            coef   std err         t     P>|t|     2.5 %     97.5 %\n",
      "Group  52.821916  10.91703  4.838488  0.000001  31.42493  74.218903\n"
     ]
    }
   ],
   "source": [
    "optimal_lasso_g = find_optimal_lasso(X_g, y_g, is_classifier=False)\n",
    "optimal_lasso_m = find_optimal_lasso(X_m, y_m, is_classifier=True)\n",
    "\n",
    "dml_irm_lasso = dml.DoubleMLIRM(obj_dml_data, optimal_lasso_g, optimal_lasso_m, n_folds=5, n_rep=5)\n",
    "print(dml_irm_lasso.fit())"
   ]
  },
  {
   "cell_type": "code",
   "execution_count": 22,
   "id": "b00f65c8",
   "metadata": {},
   "outputs": [],
   "source": [
    "dml_ate_pl = dml_irm_lasso.summary.loc['Group', 'coef']\n",
    "dml_std_pl = dml_irm_lasso.summary.loc['Group', 'std err']"
   ]
  },
  {
   "cell_type": "code",
   "execution_count": 23,
   "id": "37aa9211",
   "metadata": {},
   "outputs": [
    {
     "name": "stdout",
     "output_type": "stream",
     "text": [
      "Fitting 5 folds for each of 200 candidates, totalling 1000 fits\n",
      "\n",
      "--- Optimal Parameters for XGBoost Regressor ---\n",
      "Best parameters: {'learning_rate': 0.2, 'max_depth': 3, 'n_estimators': 100}\n",
      "Fitting 5 folds for each of 200 candidates, totalling 1000 fits\n",
      "\n",
      "--- Optimal Parameters for XGBoost Classifier ---\n",
      "Best parameters: {'learning_rate': 0.01, 'max_depth': 3, 'n_estimators': 200}\n",
      "            coef   std err         t         P>|t|      2.5 %     97.5 %\n",
      "Group  72.322423  8.201489  8.818206  1.163077e-18  55.824008  88.820839\n"
     ]
    }
   ],
   "source": [
    "optimal_xgboost_g = find_optimal_xgboost(X_g, y_g, is_classifier=False)\n",
    "optimal_xgboost_m = find_optimal_xgboost(X_m, y_m, is_classifier=True)\n",
    "\n",
    "dml_irm_boost = dml.DoubleMLIRM(obj_dml_data,\n",
    "                                 ml_g = optimal_xgboost_g,\n",
    "                                 ml_m = optimal_xgboost_m,\n",
    "                                 n_folds = 5,\n",
    "                                 n_rep = 5)\n",
    "dml_irm_boost.fit(store_predictions=True)\n",
    "boost_summary = dml_irm_boost.summary\n",
    "print(boost_summary)"
   ]
  },
  {
   "cell_type": "code",
   "execution_count": 24,
   "id": "65c227b7",
   "metadata": {},
   "outputs": [],
   "source": [
    "dml_ate_pxgb = dml_irm_boost.summary.loc['Group', 'coef']\n",
    "dml_std_pxgb = dml_irm_boost.summary.loc['Group', 'std err']"
   ]
  },
  {
   "cell_type": "code",
   "execution_count": 25,
   "id": "68f2620e",
   "metadata": {},
   "outputs": [
    {
     "name": "stdout",
     "output_type": "stream",
     "text": [
      "Successfully loaded results from MATLAB.\n",
      "Bayes Mean: 56.933\n",
      "PA Bayes Mean: 59.333\n",
      "DR Bayes Mean: 57.126\n"
     ]
    }
   ],
   "source": [
    "results_file_path = obtained_data_dir / \"Bayesian_results.txt\"\n",
    "\n",
    "if not results_file_path.exists():\n",
    "    print(f\"Error: The file {results_file_path} was not found.\")\n",
    "else:\n",
    "    def read_results(filepath):\n",
    "        results = {}\n",
    "        with open(filepath, 'r') as f:\n",
    "            for line in f:\n",
    "                if not line.strip():\n",
    "                    continue\n",
    "                # Split the line at the '=' sign\n",
    "                try:\n",
    "                    key, value = line.strip().split('=')\n",
    "                    results[key] = float(value)\n",
    "                except ValueError:\n",
    "                    print(f\"Skipping malformed line: {line.strip()}\")\n",
    "        return results\n",
    "\n",
    "    results_dict = read_results(results_file_path)\n",
    "\n",
    "    # Assign the values to the variables\n",
    "    bayes_mean = results_dict['bayes_mean']\n",
    "    bayes_std = results_dict['bayes_std']\n",
    "    \n",
    "    pa_bayes_mean = results_dict['pa_bayes_mean']\n",
    "    pa_bayes_std = results_dict['pa_bayes_std']\n",
    "    \n",
    "    dr_bayes_mean = results_dict['dr_bayes_mean']\n",
    "    dr_bayes_std = results_dict['dr_bayes_std']\n",
    "\n",
    "    print(\"Successfully loaded results from MATLAB.\")\n",
    "    print(f\"Bayes Mean: {bayes_mean}\")\n",
    "    print(f\"PA Bayes Mean: {pa_bayes_mean}\")\n",
    "    print(f\"DR Bayes Mean: {dr_bayes_mean}\")"
   ]
  },
  {
   "cell_type": "code",
   "execution_count": 28,
   "id": "a07a5955",
   "metadata": {},
   "outputs": [
    {
     "name": "stdout",
     "output_type": "stream",
     "text": [
      "Results obtained.\n"
     ]
    }
   ],
   "source": [
    "import pickle\n",
    "import os\n",
    "\n",
    "file_path = os.path.join(obtained_data_dir, 'dml_results.pkl')\n",
    "\n",
    "with open(file_path, 'rb') as f:\n",
    "    dml_results = pickle.load(f)\n",
    "\n",
    "ate_or = dml_results['or']['ate']\n",
    "ate_or_tr = dml_results['or']['ate_tr']\n",
    "\n",
    "print(\"Results obtained.\")"
   ]
  },
  {
   "cell_type": "code",
   "execution_count": 26,
   "id": "6fba05e4",
   "metadata": {},
   "outputs": [],
   "source": [
    "x_values = np.linspace(-20, 150, 1000)\n",
    "\n",
    "# PDF for each Bayesian model\n",
    "pdf_bayes = stats.norm.pdf(x_values, bayes_mean, bayes_std)\n",
    "pdf_pa_bayes = stats.norm.pdf(x_values, pa_bayes_mean, pa_bayes_std)\n",
    "pdf_dr_bayes = stats.norm.pdf(x_values, dr_bayes_mean, dr_bayes_std)\n",
    "\n",
    "# PDF for each DML model\n",
    "pdf_dml_rf = stats.norm.pdf(x_values, dml_ate_prf, dml_std_prf)\n",
    "pdf_dml_lasso = stats.norm.pdf(x_values, dml_ate_pl, dml_std_pl)\n",
    "pdf_dml_xgb = stats.norm.pdf(x_values, dml_ate_pxgb, dml_std_pxgb)\n"
   ]
  },
  {
   "cell_type": "code",
   "execution_count": 38,
   "id": "f2de5c00",
   "metadata": {},
   "outputs": [
    {
     "data": {
      "image/png": "[encoded data removed]",
      "text/plain": [
       "<Figure size 1200x800 with 1 Axes>"
      ]
     },
     "metadata": {},
     "output_type": "display_data"
    }
   ],
   "source": [
    "plt.figure(figsize=(12, 8))\n",
    "sns.set_style(\"whitegrid\")\n",
    "\n",
    "# Bayesian distributions as density curves\n",
    "plt.plot(x_values, pdf_bayes, label='Bayes', color='blue', linewidth=2.5)\n",
    "plt.plot(x_values, pdf_pa_bayes, label='PA Bayes', color='orange', linewidth=2.5)\n",
    "plt.plot(x_values, pdf_dr_bayes, label='DR Bayes', color='green', linewidth=2.5)\n",
    "\n",
    "# DML distributions as density curves\n",
    "plt.plot(x_values, pdf_dml_rf, label='DML (RF)', color='purple', linestyle='--', linewidth=2.5)\n",
    "plt.plot(x_values, pdf_dml_lasso, label='DML (Lasso)', color='red', linestyle='--', linewidth=2.5)\n",
    "plt.plot(x_values, pdf_dml_xgb, label='DML (XGBoost)', color='brown', linestyle='--', linewidth=2.5)\n",
    "\n",
    "# OLS ATE estimate as a vertical dashed line\n",
    "plt.axvline(ate_or, color='black', linestyle='--', linewidth=2, label='OLS ATE')\n",
    "plt.axvline(ate_or_tr, color='black', linestyle='-.', linewidth=2, label='OLS ATE TRUNC')\n",
    "\n",
    "plt.xlabel('ATE', fontsize=12)\n",
    "plt.ylabel('Density', fontsize=12)\n",
    "plt.legend(fontsize=10)\n",
    "plt.grid(True, linestyle='--', alpha=0.6)\n",
    "plt.show()"
   ]
  }
 ],
 "metadata": {
  "kernelspec": {
   "display_name": "res",
   "language": "python",
   "name": "python3"
  },
  "language_info": {
   "codemirror_mode": {
    "name": "ipython",
    "version": 3
   },
   "file_extension": ".py",
   "mimetype": "text/x-python",
   "name": "python",
   "nbconvert_exporter": "python",
   "pygments_lexer": "ipython3",
   "version": "3.11.0"
  }
 },
 "nbformat": 4,
 "nbformat_minor": 5
}
